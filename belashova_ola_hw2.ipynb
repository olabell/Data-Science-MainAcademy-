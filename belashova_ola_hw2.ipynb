{
 "cells": [
  {
   "cell_type": "markdown",
   "id": "c6cfd882",
   "metadata": {},
   "source": [
    "<h2 align='center'>Домашнє завдання за 25.05</h2>"
   ]
  },
  {
   "cell_type": "markdown",
   "id": "69ec42e8",
   "metadata": {},
   "source": [
    "### Завдання 1"
   ]
  },
  {
   "cell_type": "markdown",
   "id": "46a4c390",
   "metadata": {},
   "source": [
    "Відьмаку заплатіть карбованою монетою\n",
    "Всім відомо, що відьмак здатний здолати будь-яких потвор, проте його послуги обійдуться недешево, до того ж відьмак не приймає купюри, він приймає лише карбовані монети. У світі відьмака існують монети з номіналами 1,5,10,25.\n",
    "\n",
    "Напишіть програму, яка визначає яку мінімальну кількість карбованих монет потрібно заплатити відьмаку.\n",
    "\n",
    "<b>Формат вхідних даних</b>  \n",
    "На вхід до програми подається одне натуральне число, ціна за послугу відьмака.\n",
    "\n",
    "<b>Формат вихідних даних</b>  \n",
    "Програма має вивести мінімально можливу кількість карбованих монет для оплати.\n",
    "\n",
    "\n",
    "<b>Sample Input 1:</b> 49  \n",
    "<b>Sample Output 1:</b> 7  \n",
    "\n",
    "\n",
    "<b>Sample Input 2:</b> 1  \n",
    "<b>Sample Output 2:</b> 1   \n",
    "\n",
    "\n",
    "<b>Sample Input 3:</b>   5  \n",
    "<b>Sample Output 3:</b>   1    "
   ]
  },
  {
   "cell_type": "code",
   "execution_count": 1,
   "id": "5b46e0c0",
   "metadata": {},
   "outputs": [
    {
     "name": "stdout",
     "output_type": "stream",
     "text": [
      "Enter the price: 49\n",
      "Sample Input: 49\n",
      "Sample Output: 7\n"
     ]
    }
   ],
   "source": [
    "# функція для розрахунку мінімальної кількості монет\n",
    "def min_coins_calc(price):\n",
    "    denominations = [25, 10, 5, 1]  # список варіантів монет (починаючи з найбільшого номіналу, щоб була мінімальна кількість монет)\n",
    "    min_coins = 0\n",
    "    \n",
    "#для кожного номіналу монети зі списку робимо перевірку від найбільшої до найменшої та в результаті повертаємо мін кількість монет\n",
    "    for coin in denominations:\n",
    "        num_coins = price // coin  #вираховуємо кількість монет даного номіналу, що поміститься у поточну ціну\n",
    "        min_coins += num_coins  #додаємо монети до загальної кількості мінільних монет\n",
    "        price = price % coin #оновлюємо залишок від ціни\n",
    "    return min_coins\n",
    "\n",
    "# запитуємо у користувача ввести ціну для оплати послуги відьмака\n",
    "price = int(input(\"Enter the price: \"))\n",
    "\n",
    "# оголошуємо змінну та зберігаємо в неї результат обчислення мінімальної кількості монет\n",
    "min_coins = min_coins_calc(price)\n",
    "\n",
    "print(\"Sample Input:\", price)\n",
    "print(\"Sample Output:\", min_coins)"
   ]
  },
  {
   "cell_type": "markdown",
   "id": "50702131",
   "metadata": {},
   "source": [
    "### Завдання 2"
   ]
  },
  {
   "cell_type": "markdown",
   "id": "2fe5999b",
   "metadata": {},
   "source": [
    "##### Зірковий трикутник  \n",
    "На вхід програмі подається натуральне числоn(n≥2) – катет прямокутного рівнобедреного трикутника.\n",
    "\n",
    "Напишіть програму, яка виводить зірковий трикутник відповідно до прикладу.\n",
    "\n",
    "<b>Формат вхідних даних</b>  \n",
    "На вхід до програми подається одне натуральне число n(n≥2).\n",
    "\n",
    "<b>Формат вихідних даних</b>  \n",
    "Програма має вивести трикутник відповідно до умови завдання."
   ]
  },
  {
   "attachments": {
    "image.png": {
     "image/png": "[encoded data removed]"
    }
   },
   "cell_type": "markdown",
   "id": "41a0fcb3",
   "metadata": {},
   "source": [
    "<b>Sample Input 1:</b>  \n",
    "11\n",
    "  \n",
    "<b>Sample Output 1:</b>  \n",
    "![image.png](attachment:image.png)"
   ]
  },
  {
   "cell_type": "code",
   "execution_count": 2,
   "id": "7471f52a",
   "metadata": {},
   "outputs": [
    {
     "name": "stdout",
     "output_type": "stream",
     "text": [
      "Введіть число яке ≥2: 11\n",
      "***********\n",
      "**********\n",
      "*********\n",
      "********\n",
      "*******\n",
      "******\n",
      "*****\n",
      "****\n",
      "***\n",
      "**\n",
      "*\n"
     ]
    }
   ],
   "source": [
    "n = int(input(\"Введіть число яке ≥2: \")) # запитуємо у користувача ціле число\n",
    "\n",
    "def draw_triangle(n):\n",
    "    for i in range(n, 0, -1): #проходимо всі значення від n до 0 щоразу зменшуючи на одиницю\n",
    "        print('*' * i)\n",
    "draw_triangle(n)"
   ]
  },
  {
   "cell_type": "markdown",
   "id": "2f641da4",
   "metadata": {},
   "source": [
    "### Завдання 3"
   ]
  },
  {
   "cell_type": "markdown",
   "id": "8ac3bdfa",
   "metadata": {},
   "source": [
    "##### Скільки раз?  \n",
    "На вхід до програми подається один рядок. Напишіть програму, яка визначає скільки разів у рядку зустрічаються символи + та *.\n",
    "\n",
    "<b>Формат вхідних даних</b>  \n",
    "На вхід до програми подається один рядок.\n",
    "\n",
    "<b>Формат вихідних даних</b>  \n",
    "Програма повинна вивести скільки разів зустрічаються символи + та * у рядку."
   ]
  },
  {
   "cell_type": "markdown",
   "id": "6ecd0f83",
   "metadata": {},
   "source": [
    "<b>Sample Input:</b>  \n",
    "bcd+a++++**31415\n",
    "\n",
    "<b>Sample Output:</b>  \n",
    "Символ + зустрічається 5 разів  \n",
    "Символ * зустрічається 2 рази  "
   ]
  },
  {
   "cell_type": "code",
   "execution_count": 3,
   "id": "0956eb29",
   "metadata": {},
   "outputs": [
    {
     "name": "stdout",
     "output_type": "stream",
     "text": [
      "Введіть текст з бажаною кількістю символів '+' та '*': bcd+a++++**31415\n",
      "Символ + зустрічається 5 разів\n",
      "Символ * зустрічається 2 рази\n"
     ]
    }
   ],
   "source": [
    "#створюємо функцію check_symbols де за допомогою метода .count вираховуємо кількість символів '+' та '*' та зберігаємо їх у змінні\n",
    "def check_symbols(text):\n",
    "    plus_symbol = text.count('+')\n",
    "    asterisk_symbol = text.count('*')\n",
    "    return plus_symbol, asterisk_symbol\n",
    "\n",
    "\n",
    "text = str(input(\"Введіть текст з бажаною кількістю символів '+' та '*': \")) # запитуємо у користувача текст для опрацювання\n",
    "\n",
    "plus_symbol, asterisk_symbol = check_symbols(text) # викликаємо функцію check_symbols з введеним текстом \n",
    "\n",
    "# виводимо результати обчислення для символів \"+\"\n",
    "if plus_symbol > 0:\n",
    " print(f'Символ + зустрічається {plus_symbol} разів')\n",
    "else:\n",
    " print (\"У тексті немає символа '+'\")\n",
    "\n",
    "# виводимо результати обчислення для символів \"*\"\n",
    "if plus_symbol > 0:\n",
    " print(f'Символ * зустрічається {asterisk_symbol} рази')\n",
    "else:\n",
    " print (\"У тексті немає символа '*'\")\n"
   ]
  },
  {
   "cell_type": "markdown",
   "id": "97f6b23f",
   "metadata": {},
   "source": [
    "### Завдання 4"
   ]
  },
  {
   "cell_type": "markdown",
   "id": "62141bf4",
   "metadata": {},
   "source": [
    "##### Паліндром\n",
    "На вхід до програми подається одне слово, записане в нижньому регістрі. Напишіть програму, яка визначає, чи є вона паліндромом.\n",
    "\n",
    "<b>Формат вхідних даних</b>\n",
    "На вхід до програми подається одне слово в нижньому регістрі.\n",
    "\n",
    "<b>Формат вихідних даних</b>\n",
    "Програма повинна вивести \"YES\", якщо слово є паліндромом і \"NO\" в іншому випадку.\n",
    "\n",
    "Примітка. Паліндром читається однаково в обох напрямках, наприклад, слово «потоп».  \n",
    "\n",
    "\n",
    "<b>Sample Input 1:</b>  \n",
    "потоп\n",
    "    \n",
    "<b>Sample Output 1:</b>  \n",
    "YES\n",
    "    \n",
    "<b>Sample Input 2:</b>  \n",
    "анекдот\n",
    "    \n",
    "<b>Sample Output 2:</b>  \n",
    "NO"
   ]
  },
  {
   "cell_type": "code",
   "execution_count": 4,
   "id": "8acbf223",
   "metadata": {},
   "outputs": [
    {
     "name": "stdout",
     "output_type": "stream",
     "text": [
      "Введіть слово в нижньому регістрі: потоп\n",
      "Yes\n"
     ]
    }
   ],
   "source": [
    "word = str(input(\"Введіть слово в нижньому регістрі: \"))\n",
    "if word[::-1] == word:\n",
    "    print('Yes')\n",
    "else:\n",
    "    print('NO')"
   ]
  },
  {
   "cell_type": "markdown",
   "id": "e38d27ef",
   "metadata": {},
   "source": [
    "### Завдання 5"
   ]
  },
  {
   "cell_type": "markdown",
   "id": "004e59cf",
   "metadata": {},
   "source": [
    "##### Список кубів\n",
    "На вхід програмі подається натуральне числоn, а потім n цілих чисел. Напишіть програму, яка створює із зазначених чисел список їх кубів.\n",
    "\n",
    "<b>Формат вхідних даних</b>\n",
    "На вхід до програми подаються натуральне число n, а потім n цілих чисел, кожне на окремому рядку.\n",
    "\n",
    "<b>Формат вихідних даних</b>\n",
    "Програма має вивести список, що складається із кубів зазначених чисел."
   ]
  },
  {
   "cell_type": "markdown",
   "id": "79c4a807",
   "metadata": {},
   "source": [
    "<b>Sample Input 1:</b>  \n",
    "5  <br>\n",
    "1     <br>\n",
    "2    <br> \n",
    "3     <br>\n",
    "4    <br> \n",
    "5    <br> \n",
    "\n",
    "<b>Sample Output 1:</b>  \n",
    "[1, 8, 27, 64, 125]\n",
    "\n",
    "<b>Sample Input 2:</b>  \n",
    "2   <br>\n",
    "-5   <br>\n",
    "-2   <br>\n",
    "\n",
    "<b>Sample Output 2:</b>  \n",
    "[-125, -8]\n",
    "\n",
    "<b>Sample Input 3:</b>  \n",
    "1   <br>\n",
    "100   <br>\n",
    "\n",
    "<b>Sample Output 3:</b>  \n",
    "[1000000]"
   ]
  },
  {
   "cell_type": "code",
   "execution_count": 5,
   "id": "a6f281ae",
   "metadata": {},
   "outputs": [
    {
     "name": "stdout",
     "output_type": "stream",
     "text": [
      "Введіть числа: 5 1 2 3 4 5\n",
      "[1, 8, 27, 64, 125]\n"
     ]
    }
   ],
   "source": [
    "numbers = list(map(int, input(\"Введіть числа: \").split())) # запитуємо список з числом n та іншими числами  \n",
    "cubes = [] #створємо список для запису кубів чисел\n",
    "\n",
    "for val in numbers[1:]: #розраховуємо куби для всіх чисел крім першого\n",
    "    cube = val ** 3\n",
    "    cubes.append(cube)\n",
    "\n",
    "print(cubes)"
   ]
  },
  {
   "cell_type": "markdown",
   "id": "4bd7d6d7",
   "metadata": {},
   "source": [
    "### Завдання 6"
   ]
  },
  {
   "cell_type": "markdown",
   "id": "ede7fe8c",
   "metadata": {},
   "source": [
    "Напишіть функцію print_fio(name, surname, patronymic), яка приймає три параметри:\n",
    "\n",
    "name – ім'я людини;\n",
    "surname – прізвище людини;\n",
    "patronymic - по-батькові людини;\n",
    "а потім виводить на друк ПІБ людини.\n",
    "\n",
    "Примітка. Передбачте той факт, що всі три літери у ПІБ повинні мати верхній регістр.\n",
    "\n",
    "\n",
    "<b>Sample Input 1:</b>  \n",
    "Олександр  \n",
    "Пушкін  \n",
    "Сергійович  \n",
    "\n",
    "<b>Sample Output 1:</b>  \n",
    "ПАС  \n",
    "\n",
    "<b>Sample Input 2:</b>  \n",
    "тимур  \n",
    "Гуєв  \n",
    "ахсарбекович  \n",
    "\n",
    "<b>Sample Output 2:</b>  \n",
    "ГТА"
   ]
  },
  {
   "cell_type": "markdown",
   "id": "f8a279d5",
   "metadata": {},
   "source": [
    "##### Підказка\n",
    "\n",
    "Щоб піднести першу букву слова треба використати .title()   \n",
    "'alex'.title() -> 'Alex'   <br> \n",
    "\n",
    "Щоб піднести всі букви слова треба використати .upper()  \n",
    "'alex'.upper() -> 'ALEX'  "
   ]
  },
  {
   "cell_type": "code",
   "execution_count": 6,
   "id": "1530a42f",
   "metadata": {},
   "outputs": [
    {
     "name": "stdout",
     "output_type": "stream",
     "text": [
      "Введіть ім'я: тимур\n",
      "Введіть прізвище: Гуєв\n",
      "Введіть по-батькові: ахсарбекович\n",
      "ГТА\n"
     ]
    }
   ],
   "source": [
    "name = str(input(\"Введіть ім'я: \"))\n",
    "surname = str(input(\"Введіть прізвище: \"))\n",
    "patronymic = str(input(\"Введіть по-батькові: \"))\n",
    "\n",
    "def print_fio(name, surname, patronymic):\n",
    "    fio = f\"{surname.upper()[0]}{name.upper()[0]}{patronymic.upper()[0]}\"\n",
    "    print(fio)\n",
    "\n",
    "# Приклад виклику функції:\n",
    "print_fio(name, surname, patronymic)\n"
   ]
  }
 ],
 "metadata": {
  "kernelspec": {
   "display_name": "Python 3 (ipykernel)",
   "language": "python",
   "name": "python3"
  },
  "language_info": {
   "codemirror_mode": {
    "name": "ipython",
    "version": 3
   },
   "file_extension": ".py",
   "mimetype": "text/x-python",
   "name": "python",
   "nbconvert_exporter": "python",
   "pygments_lexer": "ipython3",
   "version": "3.10.9"
  }
 },
 "nbformat": 4,
 "nbformat_minor": 5
}
