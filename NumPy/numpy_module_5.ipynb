{
 "cells": [
  {
   "cell_type": "markdown",
   "metadata": {},
   "source": [
    "# Module 5: Data analysis with NumPy and Pandas"
   ]
  },
  {
   "cell_type": "markdown",
   "metadata": {},
   "source": [
    "## Lab work 5.1\n",
    "\n"
   ]
  },
  {
   "cell_type": "markdown",
   "metadata": {},
   "source": [
    "### Task:"
   ]
  },
  {
   "cell_type": "code",
   "execution_count": 1,
   "metadata": {},
   "outputs": [],
   "source": [
    "import numpy as np"
   ]
  },
  {
   "cell_type": "markdown",
   "metadata": {},
   "source": [
    "Print the version and configuration of the library:"
   ]
  },
  {
   "cell_type": "code",
   "execution_count": 2,
   "metadata": {},
   "outputs": [
    {
     "data": {
      "text/plain": [
       "'1.23.5'"
      ]
     },
     "execution_count": 2,
     "metadata": {},
     "output_type": "execute_result"
    }
   ],
   "source": [
    "np.__version__\n"
   ]
  },
  {
   "cell_type": "code",
   "execution_count": 3,
   "metadata": {},
   "outputs": [
    {
     "data": {
      "text/plain": [
       "<function numpy.__config__.show()>"
      ]
     },
     "execution_count": 3,
     "metadata": {},
     "output_type": "execute_result"
    }
   ],
   "source": [
    "np.show_config\n"
   ]
  },
  {
   "cell_type": "markdown",
   "metadata": {},
   "source": [
    "Create a vector of 10 elements filled with 1:"
   ]
  },
  {
   "cell_type": "code",
   "execution_count": 4,
   "metadata": {},
   "outputs": [
    {
     "data": {
      "text/plain": [
       "array([1., 1., 1., 1., 1., 1., 1., 1., 1., 1.])"
      ]
     },
     "execution_count": 4,
     "metadata": {},
     "output_type": "execute_result"
    }
   ],
   "source": [
    "np.ones(10)"
   ]
  },
  {
   "cell_type": "markdown",
   "metadata": {},
   "source": [
    "Create a vector with values from 0 to 10:"
   ]
  },
  {
   "cell_type": "code",
   "execution_count": 5,
   "metadata": {},
   "outputs": [
    {
     "data": {
      "text/plain": [
       "array([ 1,  2,  3,  4,  5,  6,  7,  8,  9, 10])"
      ]
     },
     "execution_count": 5,
     "metadata": {},
     "output_type": "execute_result"
    }
   ],
   "source": [
    "np.arange(1,11)"
   ]
  },
  {
   "cell_type": "markdown",
   "metadata": {},
   "source": [
    "Create a 5 by 5 matrix filled with zeros:"
   ]
  },
  {
   "cell_type": "code",
   "execution_count": 6,
   "metadata": {},
   "outputs": [
    {
     "data": {
      "text/plain": [
       "array([[0., 0., 0., 0., 0.],\n",
       "       [0., 0., 0., 0., 0.],\n",
       "       [0., 0., 0., 0., 0.],\n",
       "       [0., 0., 0., 0., 0.],\n",
       "       [0., 0., 0., 0., 0.]])"
      ]
     },
     "execution_count": 6,
     "metadata": {},
     "output_type": "execute_result"
    }
   ],
   "source": [
    "n_vect = np.zeros(25).reshape((5, 5))\n",
    "n_vect"
   ]
  },
  {
   "cell_type": "markdown",
   "metadata": {},
   "source": [
    "Fill the vector of 20 elements with random integers. Find the indices of non-zero elements:"
   ]
  },
  {
   "cell_type": "code",
   "execution_count": 7,
   "metadata": {},
   "outputs": [
    {
     "name": "stdout",
     "output_type": "stream",
     "text": [
      "A vector with random integers: [24 13 80 92 79 25 50 44  9 59 98  1 20 72 62 88 29 66 47 41]\n",
      "\n",
      "Indexes of non-zero elements: (array([ 0,  1,  2,  3,  4,  5,  6,  7,  8,  9, 10, 11, 12, 13, 14, 15, 16,\n",
      "       17, 18, 19]),)\n"
     ]
    }
   ],
   "source": [
    "arr = np.random.randint(1, 101, 20)\n",
    "non_zero_indices = np.nonzero(arr)\n",
    "\n",
    "print(\"A vector with random integers:\", arr)\n",
    "print(\"\\nIndexes of non-zero elements:\", non_zero_indices)"
   ]
  },
  {
   "cell_type": "markdown",
   "metadata": {},
   "source": [
    "For the vector from the previous problem, find the mean, median, and standard deviation:"
   ]
  },
  {
   "cell_type": "code",
   "execution_count": 8,
   "metadata": {},
   "outputs": [
    {
     "name": "stdout",
     "output_type": "stream",
     "text": [
      "Mean:  49.95\n",
      "Median:  48.5\n",
      "Standard deviation:  28.667882726144946\n"
     ]
    }
   ],
   "source": [
    "print('Mean: ', np.mean(arr))\n",
    "print('Median: ', np.median(arr))\n",
    "print('Standard deviation: ', np.std(arr))"
   ]
  },
  {
   "cell_type": "markdown",
   "metadata": {},
   "source": [
    "Create two matrices of random numbers of size 4x2 and 2x2. Multiply them:"
   ]
  },
  {
   "cell_type": "code",
   "execution_count": 9,
   "metadata": {},
   "outputs": [
    {
     "name": "stdout",
     "output_type": "stream",
     "text": [
      "The generated matrix #1:\n",
      " [[0.52015875 0.90907089]\n",
      " [0.89404606 0.54015894]\n",
      " [0.32947242 0.13492033]\n",
      " [0.5430015  0.34452752]]\n",
      "\n",
      "The generated matrix #2:\n",
      " [[0.85300946 0.1850372 ]\n",
      " [0.15774    0.49394209]]\n",
      "\n",
      "The multiplied matrix:\n",
      " [[0.58709718 0.54527709]\n",
      " [0.84783442 0.43223901]\n",
      " [0.30232542 0.12760748]\n",
      " [0.51753119 0.27065212]]\n"
     ]
    }
   ],
   "source": [
    "mtrx1 = np.random.random((4,2))\n",
    "print('The generated matrix #1:\\n', mtrx1)\n",
    "\n",
    "mtrx2 = np.random.random((2,2))\n",
    "print('\\nThe generated matrix #2:\\n', mtrx2)\n",
    "\n",
    "multipl_mtrx = np.dot(mtrx1, mtrx2)\n",
    "print('\\nThe multiplied matrix:\\n', multipl_mtrx)"
   ]
  },
  {
   "cell_type": "markdown",
   "metadata": {},
   "source": [
    "Convert the resulting matrix from the previous problem to a vector. Find the minimum and maximum values. \n",
    "\n",
    "Replace the maximum value with 0:"
   ]
  },
  {
   "cell_type": "code",
   "execution_count": 10,
   "metadata": {},
   "outputs": [
    {
     "name": "stdout",
     "output_type": "stream",
     "text": [
      "Min value: 0.12760748480632603\n",
      "Max value: 0.5870971764472411\n"
     ]
    }
   ],
   "source": [
    "vector = multipl_mtrx.flatten()\n",
    "\n",
    "min_value = np.min(vector)\n",
    "max_value = np.max(vector)\n",
    "\n",
    "vector[vector == max_value] = 0\n",
    "\n",
    "print(\"Min value:\", min_value)\n",
    "print(\"Max value:\", np.max(vector))"
   ]
  },
  {
   "cell_type": "markdown",
   "metadata": {},
   "source": [
    "Find the correlation of the first row of the matrix from the previous problem with the other rows:"
   ]
  },
  {
   "cell_type": "code",
   "execution_count": 11,
   "metadata": {},
   "outputs": [
    {
     "name": "stdout",
     "output_type": "stream",
     "text": [
      "Correlation matrix:\n",
      "[[1. 1. 1. 1.]\n",
      " [1. 1. 1. 1.]\n",
      " [1. 1. 1. 1.]\n",
      " [1. 1. 1. 1.]]\n",
      "Correlation of the first row with other rows:\n",
      "[1. 1. 1. 1.]\n"
     ]
    }
   ],
   "source": [
    "first_row = multipl_mtrx[0]\n",
    "\n",
    "correlation_matrix = np.corrcoef(multipl_mtrx)\n",
    "\n",
    "correlation_with_first_row = correlation_matrix[0]\n",
    "\n",
    "print(\"Correlation matrix:\")\n",
    "print(correlation_matrix)\n",
    "\n",
    "print(\"Correlation of the first row with other rows:\")\n",
    "print(correlation_with_first_row)"
   ]
  },
  {
   "cell_type": "markdown",
   "metadata": {},
   "source": [
    "The matrix is given. Find the rank of the matrix:"
   ]
  },
  {
   "cell_type": "code",
   "execution_count": 12,
   "metadata": {},
   "outputs": [
    {
     "name": "stdout",
     "output_type": "stream",
     "text": [
      "Rank: 3\n"
     ]
    }
   ],
   "source": [
    "a = np.array([[ 1,  4, 5],\n",
    "              [7, 3, 2],\n",
    "              [9, 16, 1]])\n",
    "\n",
    "rank = np.linalg.matrix_rank(a)\n",
    "print(\"Rank:\", rank)"
   ]
  },
  {
   "cell_type": "markdown",
   "metadata": {},
   "source": [
    "Find the determinant of a matrix:"
   ]
  },
  {
   "cell_type": "code",
   "execution_count": 13,
   "metadata": {},
   "outputs": [
    {
     "name": "stdout",
     "output_type": "stream",
     "text": [
      "Determinant of a matrix: 440.0000000000002\n"
     ]
    }
   ],
   "source": [
    "determinant = np.linalg.det(a)\n",
    "print(\"Determinant of a matrix:\", determinant)"
   ]
  },
  {
   "cell_type": "markdown",
   "metadata": {},
   "source": [
    "Find the eigenvalues and eigenvectors of the matrix:"
   ]
  },
  {
   "cell_type": "code",
   "execution_count": 14,
   "metadata": {},
   "outputs": [
    {
     "name": "stdout",
     "output_type": "stream",
     "text": [
      "Eigenvalues:\n",
      " [14.13520334+0.j         -4.56760167+3.20389947j -4.56760167-3.20389947j]\n",
      "\n",
      " Eigenvectors:\n",
      " [[ 0.43131913+0.j          0.31386258+0.47450898j  0.31386258-0.47450898j]\n",
      " [ 0.41502436+0.j          0.07049527-0.4090732j   0.07049527+0.4090732j ]\n",
      " [ 0.8010734 +0.j         -0.7099444 +0.j         -0.7099444 -0.j        ]]\n"
     ]
    }
   ],
   "source": [
    "eigenvalues, eigenvectors = np.linalg.eig(a)\n",
    "\n",
    "print(\"Eigenvalues:\\n\", eigenvalues)\n",
    "print(\"\\n Eigenvectors:\\n\", eigenvectors)"
   ]
  },
  {
   "cell_type": "markdown",
   "metadata": {},
   "source": [
    "Find the number that occurs most often in the array:"
   ]
  },
  {
   "cell_type": "code",
   "execution_count": 15,
   "metadata": {},
   "outputs": [
    {
     "name": "stdout",
     "output_type": "stream",
     "text": [
      "Array: [0 0 9 5 6 7 5 9 6 8 7 0 4 0 5 9 0 0 4 3 8 2 7 4 3 5 9 8 1 1 1 5 8 8 1 3 0\n",
      " 5 9 4 6 0 1 2 2 8 7 9 9 0]\n",
      "The most frequently occurring number: 0\n"
     ]
    }
   ],
   "source": [
    "a = np.random.randint(0,10,50)\n",
    "most_common_number = np.argmax(np.bincount(a))\n",
    "print(\"Array:\", a)\n",
    "print(\"The most frequently occurring number:\", most_common_number)"
   ]
  },
  {
   "cell_type": "markdown",
   "metadata": {},
   "source": [
    "Print only even numbers divisible by 5:"
   ]
  },
  {
   "cell_type": "code",
   "execution_count": 16,
   "metadata": {},
   "outputs": [
    {
     "name": "stdout",
     "output_type": "stream",
     "text": [
      "Array: [31 10 23 39 45 11 20 23 33 16 42  1 31 11  4  8  3 37 41  2 24 35 25 27\n",
      " 34 15 48  7  4 11 39 43 17  7 35 23 25  5 47 20  6 25 39 27 33 16 45 20\n",
      "  5 43]\n",
      "Even numbers divisible by 5: [10, 20, 20, 20]\n"
     ]
    }
   ],
   "source": [
    "a = np.random.randint(0, 50, 50)\n",
    "\n",
    "result = []\n",
    "\n",
    "for number in a:\n",
    "    if number != 0 and number % 2 == 0 and number % 5 == 0:\n",
    "        result.append(number)\n",
    "\n",
    "print(\"Array:\", a)\n",
    "print(\"Even numbers divisible by 5:\", result)"
   ]
  },
  {
   "cell_type": "markdown",
   "metadata": {},
   "source": [
    "Solve the system of equations:\n",
    "$$2x + 5y = 1 $$\n",
    "\n",
    "$$x - 10y = 3  $$\n",
    "   "
   ]
  },
  {
   "cell_type": "code",
   "execution_count": 17,
   "metadata": {},
   "outputs": [
    {
     "name": "stdout",
     "output_type": "stream",
     "text": [
      "x = 1.0\n",
      "y = -0.2\n"
     ]
    }
   ],
   "source": [
    "A = np.array([[2, 5],\n",
    "              [1, -10]])\n",
    "\n",
    "B = np.array([1, 3])\n",
    "\n",
    "solution = np.linalg.solve(A, B)\n",
    "\n",
    "x = solution[0]\n",
    "y = solution[1]\n",
    "\n",
    "print(f\"x = {x}\")\n",
    "print(f\"y = {y}\")"
   ]
  },
  {
   "cell_type": "code",
   "execution_count": null,
   "metadata": {},
   "outputs": [],
   "source": []
  }
 ],
 "metadata": {
  "kernelspec": {
   "display_name": "Python 3 (ipykernel)",
   "language": "python",
   "name": "python3"
  },
  "language_info": {
   "codemirror_mode": {
    "name": "ipython",
    "version": 3
   },
   "file_extension": ".py",
   "mimetype": "text/x-python",
   "name": "python",
   "nbconvert_exporter": "python",
   "pygments_lexer": "ipython3",
   "version": "3.10.9"
  }
 },
 "nbformat": 4,
 "nbformat_minor": 2
}
