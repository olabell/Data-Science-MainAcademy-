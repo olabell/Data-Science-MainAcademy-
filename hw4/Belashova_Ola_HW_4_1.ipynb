{
 "cells": [
  {
   "cell_type": "markdown",
   "metadata": {},
   "source": [
    "___\n",
    "\n",
    "<a href='https://mainacademy.ua/'> <img src='https://mainacademy.ua/wp-content/uploads/2019/03/logo-main.png' alt = 'Хмм, щось з інтернетом'/></a>\n",
    "___\n",
    "\n",
    "# Module 2: Basic Python"
   ]
  },
  {
   "cell_type": "markdown",
   "metadata": {},
   "source": [
    "## Lab work 2.1\n",
    "\n"
   ]
  },
  {
   "cell_type": "markdown",
   "metadata": {},
   "source": [
    "#### Мета: \n",
    "\n",
    "* навчитися працювати із основними типами та структурами даних в Python;\n",
    "* ознайомитися із базовими алгоритмами;"
   ]
  },
  {
   "cell_type": "markdown",
   "metadata": {},
   "source": [
    "#### Завдання 1"
   ]
  },
  {
   "cell_type": "markdown",
   "metadata": {},
   "source": [
    "Обчислити площу трикутника, коли відома сторона та проведена висота до неї"
   ]
  },
  {
   "attachments": {
    "111.jpg": {
     "image/jpeg": "[encoded data removed]"
    }
   },
   "cell_type": "markdown",
   "metadata": {},
   "source": [
    "![111.jpg](attachment:111.jpg)"
   ]
  },
  {
   "cell_type": "code",
   "execution_count": 1,
   "metadata": {},
   "outputs": [
    {
     "name": "stdout",
     "output_type": "stream",
     "text": [
      "Введіть довжину сторони трикутника: 6\n",
      "Введіть довжину висоти трикутника: 3\n",
      "Площа трикутника:  9\n"
     ]
    }
   ],
   "source": [
    "a = int(input(\"Введіть довжину сторони трикутника: \"))\n",
    "h = int(input(\"Введіть довжину висоти трикутника: \"))\n",
    "\n",
    "triangle_square = int(0.5*a*h)\n",
    "print(\"Площа трикутника: \", triangle_square)"
   ]
  },
  {
   "cell_type": "markdown",
   "metadata": {},
   "source": [
    "#### Завдання 2"
   ]
  },
  {
   "cell_type": "markdown",
   "metadata": {},
   "source": [
    "Дано трицифрове число. Виведіть окремо кожну цифру числа та суми цифр число\n",
    "\n",
    "Реалізуйте завдання двома способами (використовуючи стрічки та оператори `%`, `//`)"
   ]
  },
  {
   "cell_type": "code",
   "execution_count": 2,
   "metadata": {},
   "outputs": [
    {
     "name": "stdout",
     "output_type": "stream",
     "text": [
      "Введіть трицифрове число: 123\n",
      "Окремо кожна цифра: \n",
      "1\n",
      "2\n",
      "3\n",
      "Сума цифр:  6\n"
     ]
    }
   ],
   "source": [
    "#варіант зі стрічками\n",
    "N = input(\"Введіть трицифрове число: \")\n",
    "\n",
    "N_list = list(map(int, str(N)))\n",
    "print(\"Окремо кожна цифра: \", *N_list, sep='\\n')\n",
    "\n",
    "total = 0\n",
    "for number in N_list:\n",
    "    total += number\n",
    "print(\"Сума цифр: \", total)"
   ]
  },
  {
   "cell_type": "code",
   "execution_count": 3,
   "metadata": {},
   "outputs": [
    {
     "name": "stdout",
     "output_type": "stream",
     "text": [
      "Введіть трицифрове число: 123\n",
      "Окремо кожна цифра:\n",
      "1\n",
      "2\n",
      "3\n",
      "Сума цифр: 6\n"
     ]
    }
   ],
   "source": [
    "#варіант з операторами % та //\n",
    "\n",
    "def calc_sum(number):\n",
    "    n1 = number // 100\n",
    "    n2 = (number // 10) % 10\n",
    "    n3 = number % 10\n",
    "    print(\"Окремо кожна цифра:\", n1, n2, n3, sep='\\n')\n",
    "    print(\"Сума цифр:\", n1 + n2 + n3)\n",
    "\n",
    "N = int(input(\"Введіть трицифрове число: \"))\n",
    "calc_sum(N)"
   ]
  },
  {
   "cell_type": "markdown",
   "metadata": {},
   "source": [
    "#### Завдання 3"
   ]
  },
  {
   "cell_type": "markdown",
   "metadata": {},
   "source": [
    "Дано речення (стрічка). \n",
    "* Розбийте речення по словах і помістіть їх у список. \n",
    "* Виведіть кількість слів у речені.\n",
    "* Утворіть нове речення, що складається з першого та останнього слова із початкового речення."
   ]
  },
  {
   "cell_type": "code",
   "execution_count": 16,
   "metadata": {},
   "outputs": [],
   "source": [
    "sentence = 'My favourite tutor in academy is Eugene'"
   ]
  },
  {
   "cell_type": "code",
   "execution_count": 17,
   "metadata": {},
   "outputs": [
    {
     "name": "stdout",
     "output_type": "stream",
     "text": [
      "Речення по словах як список:  ['My', 'favourite', 'tutor', 'in', 'academy', 'is', 'Eugene']\n"
     ]
    }
   ],
   "source": [
    "splited_sentence = sentence.split(\" \")\n",
    "print(\"Речення по словах як список: \", splited_sentence)"
   ]
  },
  {
   "cell_type": "code",
   "execution_count": 18,
   "metadata": {},
   "outputs": [
    {
     "name": "stdout",
     "output_type": "stream",
     "text": [
      "Кількість слів у реченні:  7\n"
     ]
    }
   ],
   "source": [
    "words = sentence.split()\n",
    "word_count = len(words)\n",
    "print(\"Кількість слів у реченні: \", word_count)"
   ]
  },
  {
   "cell_type": "code",
   "execution_count": 15,
   "metadata": {},
   "outputs": [
    {
     "name": "stdout",
     "output_type": "stream",
     "text": [
      "My Eugene\n"
     ]
    }
   ],
   "source": [
    "new_sentence = f\"{splited_sentence[0]} {splited_sentence[-1]}\"\n",
    "print(new_sentence)\n"
   ]
  },
  {
   "cell_type": "markdown",
   "metadata": {},
   "source": [
    "#### Завдання 4"
   ]
  },
  {
   "cell_type": "markdown",
   "metadata": {},
   "source": [
    "Перевірте, чи справджується формула: $$ sin^2x + cos^2x = 1$$\n",
    "\n",
    "Напишіть код, що реалізує цю формулу. Нагадую, що тригонометричні функції приймають аргументи в радіанній мірі"
   ]
  },
  {
   "cell_type": "code",
   "execution_count": 8,
   "metadata": {},
   "outputs": [
    {
     "name": "stdout",
     "output_type": "stream",
     "text": [
      "Введіть значення x в радіанах: 4\n",
      "Формула справджується\n"
     ]
    }
   ],
   "source": [
    "import math\n",
    "\n",
    "x = float(input(\"Введіть значення x в радіанах: \"))\n",
    "\n",
    "#переводимо з радіан в градуси\n",
    "y = int(math.degrees(x))\n",
    "\n",
    "formula = math.sin(y)**2 + math.cos(y)**2\n",
    "\n",
    "if math.isclose(formula, 1):\n",
    "    print('Формула справджується')\n",
    "else:\n",
    "    print('Формула нет справджується')"
   ]
  },
  {
   "cell_type": "markdown",
   "metadata": {},
   "source": [
    "#### Завдання 5"
   ]
  },
  {
   "cell_type": "markdown",
   "metadata": {},
   "source": [
    "Напишіть програму для обчислення коренів квадратного рівняння.\n",
    "\n",
    "Нагадую, що `n`-го степеня має `n` коренів. (Корені можуть бути комплексні)"
   ]
  },
  {
   "cell_type": "code",
   "execution_count": 9,
   "metadata": {},
   "outputs": [
    {
     "name": "stdout",
     "output_type": "stream",
     "text": [
      "Введіть значення a: 1\n",
      "Введіть значення b: 5\n",
      "Введіть значення c: 1\n",
      "\n",
      "Результат:\n",
      "Так як D > отримали 2 корені\n",
      "Корінь x1 = 0 \n",
      "Корінь x2 = -4\n"
     ]
    }
   ],
   "source": [
    "import cmath\n",
    "a = int(input(\"Введіть значення a: \"))\n",
    "b = int(input(\"Введіть значення b: \"))\n",
    "c = int(input(\"Введіть значення c: \"))\n",
    "\n",
    "# Якщо D < 0, квадратне рівняння має два комплексні(недійсні) розвязки a=1, b=5, c=8 \n",
    "# Якщо D = 0, квадратне рівняння має один дійсний розвязок (обидва корені однакові). a=1, b=2, c=1\n",
    "# Якщо D > 0, квадратне рівняння має два різних дійсних розвязки. a=1, b=5, c=1 \n",
    "\n",
    "def find_x(a, b, c):\n",
    "    x1 = ((-b) + (D ** 0.5))/2*a\n",
    "    x2 = ((-b) - (D ** 0.5))/2*a\n",
    "    return x1, x2\n",
    "\n",
    "D = b**2 - 4*a*c\n",
    "\n",
    "if D < 0:\n",
    "    x1, x2 = find_x(a, b, c)\n",
    "    print(\"\\nРезультат:\\nТак як D < 0 отримали 2 комплексні корені\\nКорінь x1 =\", x1,\"\\nКорінь x2 =\", x2)\n",
    "elif D == 0:\n",
    "    x = int(- (b/(2*a)))\n",
    "    print(\"\\nРезультат:\\nТак як D = 0 отримали один корінь\\nКорінь =\", x)\n",
    "elif D > 0:   \n",
    "    x1, x2 = find_x(a, b, c)\n",
    "    print(\"\\nРезультат:\\nТак як D > отримали 2 корені\\nКорінь x1 =\", int(x1),\"\\nКорінь x2 =\", int(x2))\n"
   ]
  },
  {
   "cell_type": "markdown",
   "metadata": {},
   "source": [
    "#### Завдання 6"
   ]
  },
  {
   "cell_type": "markdown",
   "metadata": {},
   "source": [
    "Напишіть програму, що виводить речення: <i>\"Діаметр планети `Planet` дорівнює` Diament`\"</i>, \n",
    "\n",
    "де `Planet` та `Diament` вводить користувач"
   ]
  },
  {
   "cell_type": "code",
   "execution_count": 10,
   "metadata": {},
   "outputs": [
    {
     "name": "stdout",
     "output_type": "stream",
     "text": [
      "Введіть назву планети: Earth\n",
      "Введіть діаметр планети: 12742\n",
      "Діаметр планети Earth дорівнює 12742\n"
     ]
    }
   ],
   "source": [
    "Planet = input(\"Введіть назву планети: \")\n",
    "Diament = input(\"Введіть діаметр планети: \")\n",
    "\n",
    "print(\"Діаметр планети {} дорівнює {}\".format(Planet,Diament))"
   ]
  }
 ],
 "metadata": {
  "kernelspec": {
   "display_name": "Python 3 (ipykernel)",
   "language": "python",
   "name": "python3"
  },
  "language_info": {
   "codemirror_mode": {
    "name": "ipython",
    "version": 3
   },
   "file_extension": ".py",
   "mimetype": "text/x-python",
   "name": "python",
   "nbconvert_exporter": "python",
   "pygments_lexer": "ipython3",
   "version": "3.10.9"
  }
 },
 "nbformat": 4,
 "nbformat_minor": 2
}
